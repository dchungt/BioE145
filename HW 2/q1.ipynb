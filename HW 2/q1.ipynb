{
 "cells": [
  {
   "cell_type": "markdown",
   "metadata": {},
   "source": [
    "\n",
    "<br>\n",
    "School: University of California, Berkeley<br>\n",
    "Course: BIOENG 145/245<br>\n",
    "Author: Yorick Chern<br>\n",
    "Instructor: Liana Lareau<br>\n",
    "Assignment 2<br>\n"
   ]
  },
  {
   "cell_type": "markdown",
   "metadata": {},
   "source": [
    "\n",
    "Q 1.1\n"
   ]
  },
  {
   "cell_type": "code",
   "execution_count": 67,
   "metadata": {},
   "outputs": [],
   "source": [
    "def rev_complement(seq):\n",
    "    \"\"\"\n",
    "    Q:  find the reverse complement of the sequence.\n",
    "        note, assume seq contains all capital letters and are restricted\n",
    "        to A, T, G, and C.\n",
    "    Ex:\n",
    "    >>> find_complement(seq=\"ATGTACTAGCTA\")\n",
    "    TAGCTAGTACAT\n",
    "    Input\n",
    "    - seq: the sequence to find the complement for\n",
    "    Output\n",
    "    - comp: the complement\n",
    "    \"\"\"\n",
    "    \n",
    "    seq = seq.replace(\"A\", \"t\").replace(\"C\", \"g\").replace(\"T\", \"a\").replace(\"G\", \"c\")\n",
    "    seq = seq.upper()\n",
    "    seq = seq[::-1]\n",
    "    return seq"
   ]
  },
  {
   "cell_type": "markdown",
   "metadata": {},
   "source": [
    "\n",
    "Q 1.2\n",
    "  \n"
   ]
  },
  {
   "cell_type": "code",
   "execution_count": 73,
   "metadata": {},
   "outputs": [],
   "source": [
    "def gc_content(seq):\n",
    "    \n",
    "    \"\"\"\n",
    "    Q:  find the GC% of the sequence.\n",
    "    Ex:\n",
    "    >>> gc_content(\"ATCGACTCGAGTCGTACGTTCACG\")\n",
    "    0.5416666666666666\n",
    "    Input\n",
    "    - seq: sequence\n",
    "    Output\n",
    "    - gc = GC% (a float between 0 and 1)\n",
    "    \"\"\"\n",
    "    return ((seq.count('C') + seq.count('G')) / len(seq) * 100)/100"
   ]
  },
  {
   "cell_type": "markdown",
   "metadata": {},
   "source": [
    "\n",
    "Q 1.3\n",
    "  \n"
   ]
  },
  {
   "cell_type": "code",
   "execution_count": 75,
   "metadata": {},
   "outputs": [],
   "source": [
    "def find_motif_freq(motif, seq):\n",
    "    \n",
    "    \"\"\"\n",
    "    Q:  given a target motif, find its frequency in a dna strand.\n",
    "    Ex:\n",
    "    >>> find_motif_freq(\"AA\", \"AAAAAAAAA\")\n",
    "    8\n",
    "    >>> find_motif_freq(\"ATC\", \"ACTGACTATCGTCAGTCGATCTAATCCTG\")\n",
    "    3\n",
    "    Input\n",
    "    - motif: target substring\n",
    "    - seq: sequence to search in\n",
    "    Output\n",
    "    - freq: frequency of the given motif\n",
    "    \"\"\"\n",
    "    \n",
    "    count = 0\n",
    "    for i in range(len(seq)):\n",
    "        if seq[i:].startswith(motif):\n",
    "            count = count + 1\n",
    "    return(count)"
   ]
  },
  {
   "cell_type": "markdown",
   "metadata": {},
   "source": [
    "\n",
    "Q 1.4"
   ]
  },
  {
   "cell_type": "code",
   "execution_count": 70,
   "metadata": {},
   "outputs": [],
   "source": [
    "def find_binding_site(bind, seq):\n",
    "    \n",
    "    \"\"\"\n",
    "    Q:  given a sequence, find the first position of the binding site.\n",
    "        note, the binding site is the reverse complement of bind.\n",
    "        hint: you can call the rev_complement() method earlier.\n",
    "        hint: return -1 if the binding site is NOT found in seq\n",
    "    Ex:\n",
    "    >>> find_binding_site(\"ATGC\", \"ACTCGACTCAGCATCATACGGACTC\")\n",
    "    10\n",
    "    Inputs\n",
    "    - bind: the short binding-sequence that will bind to the sequence seq\n",
    "    - seq: sequence to be bind to\n",
    "    Outputs\n",
    "    - pos: position (0 indexed)\n",
    "    \"\"\"\n",
    "    \n",
    "    rev = rev_complement(bind)\n",
    "    return seq.find(rev)\n"
   ]
  },
  {
   "cell_type": "code",
   "execution_count": 76,
   "metadata": {},
   "outputs": [
    {
     "name": "stdout",
     "output_type": "stream",
     "text": [
      "TAGCTAGTACAT\n",
      "0.5416666666666666\n",
      "3\n",
      "10\n"
     ]
    }
   ],
   "source": [
    "if __name__ == '__main__':\n",
    "    print(rev_complement(\"ATGTACTAGCTA\"))\n",
    "    print(gc_content(\"ATCGACTCGAGTCGTACGTTCACG\"))\n",
    "    print(find_motif_freq(\"ATC\", \"ACTGACTATCGTCAGTCGATCTAATCCTG\"))\n",
    "    print(find_binding_site(\"ATGC\", \"ACTCGACTCAGCATCATACGGACTC\"))\n",
    "    pass"
   ]
  },
  {
   "cell_type": "code",
   "execution_count": null,
   "metadata": {},
   "outputs": [],
   "source": []
  }
 ],
 "metadata": {
  "kernelspec": {
   "display_name": "Python 3 (ipykernel)",
   "language": "python",
   "name": "python3"
  },
  "language_info": {
   "codemirror_mode": {
    "name": "ipython",
    "version": 3
   },
   "file_extension": ".py",
   "mimetype": "text/x-python",
   "name": "python",
   "nbconvert_exporter": "python",
   "pygments_lexer": "ipython3",
   "version": "3.9.13"
  }
 },
 "nbformat": 4,
 "nbformat_minor": 2
}
