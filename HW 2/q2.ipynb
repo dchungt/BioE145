{
 "cells": [
  {
   "cell_type": "markdown",
   "metadata": {},
   "source": [
    "\n",
    "<br>\n",
    "School: University of California, Berkeley<br>\n",
    "Course: BIOENG 145/245<br>\n",
    "Author: Yorick Chern<br>\n",
    "Instructor: Liana Lareau<br>\n",
    "Assignment 2<br>\n"
   ]
  },
  {
   "cell_type": "code",
   "execution_count": 29,
   "metadata": {},
   "outputs": [],
   "source": [
    "import numpy as np"
   ]
  },
  {
   "cell_type": "markdown",
   "metadata": {},
   "source": [
    "\n",
    "Q 2.1\n",
    "  \n"
   ]
  },
  {
   "cell_type": "code",
   "execution_count": 30,
   "metadata": {},
   "outputs": [],
   "source": [
    "def num_die_sum(num_die, total, trials=1000000):\n",
    "    \n",
    "    \"\"\"\n",
    "    Q:  given n fair 6-sided die, what is the probability that we roll a certain sum?\n",
    "    Inputs\n",
    "    - num_die: number of fair 6-sided (ranges 1-6) die to be thrown\n",
    "    - total: the sum we are looking for\n",
    "    - trials: number of simulations ran\n",
    "    Output\n",
    "    - prob: probability that the sum of num_die rolled = total\n",
    "    \"\"\"\n",
    "\n",
    "    # check that total > minimum sum or < maximum sum ==> otherwise\n",
    "    # there is no chance of happening ==> probability = 0.00\n",
    "    if total < num_die:\n",
    "        return 0\n",
    "    if total > num_die * 6:\n",
    "        return 0\n",
    "\n",
    "    # use np.random.randint(...) to generate a matrix with the size of (# of trials, # of die)\n",
    "    # where each row is a trial and each column is the value of a dice throw\n",
    "    rolls = np.random.randint(1, 7, (trials, num_die))\n",
    "\n",
    "    # sum up each row to obtain the sum of each trial, use np.sum()\n",
    "    sums = np.sum(rolls, axis=1)\n",
    "\n",
    "    # how many elements in sums = the sum we are looking for?\n",
    "    tally = np.sum(sums == total)\n",
    "    prob = tally / trials\n",
    "    return prob"
   ]
  },
  {
   "cell_type": "markdown",
   "metadata": {},
   "source": [
    "\n",
    "Q 2.2\n",
    "  \n"
   ]
  },
  {
   "cell_type": "code",
   "execution_count": 47,
   "metadata": {},
   "outputs": [],
   "source": [
    "def correct_papers(num_papers, trials=1000000):\n",
    "    \"\"\"\n",
    "    Q:  a professor got mad at his students and throws a pile of n papers on the\n",
    "        floor and asks each student to pick up a random paper from the floor.\n",
    "        On average, how many students get their own paper back?\n",
    "    Input\n",
    "    - num_papers: number of papers to be thrown\n",
    "    Output\n",
    "    - avg: the average number of students who got their own paper\n",
    "    \"\"\"\n",
    "    sum = 0\n",
    "    # use list comprehension or np.linspace() to generate a list from 1 to num_papers (or 0 to num_papers - 1)\n",
    "    for i in range(trials):\n",
    "        # use np.random.permutation()\n",
    "        papers = np.random.permutation(num_papers)\n",
    "        \n",
    "        for j in range(num_papers):\n",
    "            if papers[j] == j:\n",
    "                sum += 1\n",
    "    avg = sum / trials\n",
    "    return avg"
   ]
  },
  {
   "cell_type": "markdown",
   "metadata": {},
   "source": [
    "\n",
    "Q 2.3\n",
    "  \n"
   ]
  },
  {
   "cell_type": "code",
   "execution_count": 32,
   "metadata": {},
   "outputs": [],
   "source": [
    "def monte_carlo_pi(num_points):\n",
    "    \"\"\"\n",
    "    Q:  estimate pi using num_points\n",
    "    HINT:\n",
    "    1.  generate n random (x, y) points\n",
    "    2.  calculate the number of (x, y) points that falls within a unit circle\n",
    "    3.  divide this number by the total number of points generated\n",
    "    4.  multiple this ratio by the area of square that bounds the unit circle (what does this ratio represent?)\n",
    "    5.  use this number to determine pi\n",
    "    Input\n",
    "    - num_points: number of points generated randomly\n",
    "    Output\n",
    "    - pi: estiamted pi\n",
    "    \"\"\"\n",
    "\n",
    "    # generate pairs of (x, y) coordinates within the range of (-1, 1)\n",
    "    # use np.random.rand()\n",
    "    x, y = np.random.rand(num_points), np.random.rand(num_points)\n",
    "    \n",
    "    # 2\n",
    "    in_unit_circle = (x**2 + y**2 <= 1)\n",
    "    \n",
    "    #3\n",
    "    p = np.sum(in_unit_circle) / num_points\n",
    "    \n",
    "    #5\n",
    "    pi = p * 4\n",
    "    \n",
    "    # follow the algorithm above\n",
    "    return pi"
   ]
  },
  {
   "cell_type": "markdown",
   "metadata": {},
   "source": [
    "\n",
    "Q 2.4\n"
   ]
  },
  {
   "cell_type": "code",
   "execution_count": 44,
   "metadata": {},
   "outputs": [],
   "source": [
    "def roll_until_repeat(n_sided, trials=1000000):\n",
    "    \"\"\"\n",
    "    Q:  on average, how many rolls do we need until we see 2 consecutive rolls of the same value?\n",
    "        Ex: 2, 4, 1, 5, 3, 6, 4, 4 ==> we see two 4's in a row after 6 rolls\n",
    "    Input\n",
    "    - n_sided: a fair n-sided dice\n",
    "    Output\n",
    "    - avg: average number of rolls needed\n",
    "    \"\"\"\n",
    "    total_rolls = 0\n",
    "    num_rolls_per_trial = 50    # this is the number of rolls\n",
    "    \n",
    "    for _ in range(trials):\n",
    "        rolls = np.random.randint(1, n_sided + 1, num_rolls_per_trial)\n",
    "        for i in range(1, num_rolls_per_trial):\n",
    "            if rolls[i] == rolls[i - 1]:\n",
    "                total_rolls += (i - 1)\n",
    "                break\n",
    "    avg = total_rolls / trials\n",
    "    return avg\n",
    "            "
   ]
  },
  {
   "cell_type": "code",
   "execution_count": 39,
   "metadata": {},
   "outputs": [
    {
     "name": "stdout",
     "output_type": "stream",
     "text": [
      "0.083349\n",
      "0.631989\n",
      "3.143276\n",
      "4.0148\n"
     ]
    }
   ],
   "source": [
    "if __name__ == '__main__':\n",
    "\t# some test cases for you to follow\n",
    "    print(num_die_sum(2, 4))              # 0.08319\n",
    "    print(correct_papers(10))           # 1.000\n",
    "    print(monte_carlo_pi(1000000))        # 3.14\n",
    "    print(roll_until_repeat(6, 10000))    # 5\n",
    "    pass"
   ]
  },
  {
   "cell_type": "code",
   "execution_count": 48,
   "metadata": {},
   "outputs": [
    {
     "data": {
      "text/plain": [
       "0.99"
      ]
     },
     "execution_count": 48,
     "metadata": {},
     "output_type": "execute_result"
    }
   ],
   "source": [
    "correct_papers(1000,100)"
   ]
  },
  {
   "cell_type": "code",
   "execution_count": 46,
   "metadata": {},
   "outputs": [
    {
     "name": "stdout",
     "output_type": "stream",
     "text": [
      "4.9954\n"
     ]
    }
   ],
   "source": [
    "print(roll_until_repeat(6, 10000)) "
   ]
  },
  {
   "cell_type": "code",
   "execution_count": null,
   "metadata": {},
   "outputs": [],
   "source": []
  }
 ],
 "metadata": {
  "kernelspec": {
   "display_name": "Python 3 (ipykernel)",
   "language": "python",
   "name": "python3"
  },
  "language_info": {
   "codemirror_mode": {
    "name": "ipython",
    "version": 3
   },
   "file_extension": ".py",
   "mimetype": "text/x-python",
   "name": "python",
   "nbconvert_exporter": "python",
   "pygments_lexer": "ipython3",
   "version": "3.9.13"
  }
 },
 "nbformat": 4,
 "nbformat_minor": 2
}
