{
 "cells": [
  {
   "cell_type": "markdown",
   "metadata": {},
   "source": [
    "\n",
    "<br>\n",
    "School: University of California, Berkeley<br>\n",
    "Course: BIOENG 145/245<br>\n",
    "Author: Yorick Chern<br>\n",
    "Instructor: Liana Lareau<br>\n",
    "Assignment 2<br>\n"
   ]
  },
  {
   "cell_type": "markdown",
   "metadata": {},
   "source": [
    "\n",
    "Q 1.1\n"
   ]
  },
  {
   "cell_type": "code",
   "execution_count": null,
   "metadata": {},
   "outputs": [],
   "source": [
    "def rev_complement(seq):\n",
    "    Q:  find the reverse complement of the sequence.\n",
    "        note, assume seq contains all capital letters and are restricted\n",
    "        to A, T, G, and C.\n",
    "    Ex:\n",
    "    >>> find_complement(seq=\"ATGTACTAGCTA\")\n",
    "    TAGCTAGTACAT\n",
    "    Input\n",
    "    - seq: the sequence to find the complement for\n",
    "    Output\n",
    "    - comp: the complement\n",
    "    \"\"\""
   ]
  },
  {
   "cell_type": "markdown",
   "metadata": {},
   "source": [
    "\n",
    "Q 1.2\n",
    "  \n"
   ]
  },
  {
   "cell_type": "code",
   "execution_count": null,
   "metadata": {},
   "outputs": [],
   "source": [
    "def gc_content(seq):\n",
    "    Q:  find the GC% of the sequence.\n",
    "    Ex:\n",
    "    >>> gc_content(\"ATCGACTCGAGTCGTACGTTCACG\")\n",
    "    0.5416666666666666\n",
    "    Input\n",
    "    - seq: sequence\n",
    "    Output\n",
    "    - gc = GC% (a float between 0 and 1)\n",
    "    \"\"\""
   ]
  },
  {
   "cell_type": "markdown",
   "metadata": {},
   "source": [
    "\n",
    "Q 1.3\n",
    "  \n"
   ]
  },
  {
   "cell_type": "code",
   "execution_count": null,
   "metadata": {},
   "outputs": [],
   "source": [
    "def find_motif_freq(motif, seq):\n",
    "    Q:  given a target motif, find its frequency in a dna strand.\n",
    "    Ex:\n",
    "    >>> find_motif_freq(\"AA\", \"AAAAAAAAA\")\n",
    "    8\n",
    "    >>> find_motif_freq(\"ATC\", \"ACTGACTATCGTCAGTCGATCTAATCCTG\")\n",
    "    3\n",
    "    Input\n",
    "    - motif: target substring\n",
    "    - seq: sequence to search in\n",
    "    Output\n",
    "    - freq: frequency of the given motif\n",
    "    \"\"\""
   ]
  },
  {
   "cell_type": "markdown",
   "metadata": {},
   "source": [
    "\n",
    "Q 1.4"
   ]
  },
  {
   "cell_type": "code",
   "execution_count": null,
   "metadata": {},
   "outputs": [],
   "source": [
    "def find_binding_site(bind, seq):\n",
    "    \n",
    "    Q:  given a sequence, find the first position of the binding site.\n",
    "        note, the binding site is the reverse complement of bind.\n",
    "        hint: you can call the rev_complement() method earlier.\n",
    "        hint: return -1 if the binding site is NOT found in seq\n",
    "    Ex:\n",
    "    >>> find_binding_site(\"ATGC\", \"ACTCGACTCAGCATCATACGGACTC\")\n",
    "    10\n",
    "    Inputs\n",
    "    - bind: the short binding-sequence that will bind to the sequence seq\n",
    "    - seq: sequence to be bind to\n",
    "    Outputs\n",
    "    - pos: position (0 indexed)\n",
    "    \"\"\""
   ]
  },
  {
   "cell_type": "code",
   "execution_count": null,
   "metadata": {},
   "outputs": [],
   "source": [
    "if __name__ == '__main__':\n",
    "    # print(rev_complement(\"ATGTACTAGCTA\"))\n",
    "    # print(gc_content(\"ATCGACTCGAGTCGTACGTTCACG\"))\n",
    "    # print(find_motif_freq(\"ATC\", \"ACTGACTATCGTCAGTCGATCTAATCCTG\"))\n",
    "    # print(find_binding_site(\"ATGC\", \"ACTCGACTCAGCATCATACGGACTC\"))\n",
    "    pass"
   ]
  }
 ],
 "metadata": {
  "kernelspec": {
   "display_name": "Python 3 (ipykernel)",
   "language": "python",
   "name": "python3"
  },
  "language_info": {
   "codemirror_mode": {
    "name": "ipython",
    "version": 3
   },
   "file_extension": ".py",
   "mimetype": "text/x-python",
   "name": "python",
   "nbconvert_exporter": "python",
   "pygments_lexer": "ipython3",
   "version": "3.9.13"
  }
 },
 "nbformat": 4,
 "nbformat_minor": 2
}
