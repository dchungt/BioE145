{
 "cells": [
  {
   "cell_type": "code",
   "execution_count": 2,
   "metadata": {
    "id": "y_Dn9rzyiqxi"
   },
   "outputs": [],
   "source": [
    "import pandas as pd\n",
    "import numpy as np\n",
    "import torch\n",
    "import torch.nn as nn\n",
    "# May need to import more things"
   ]
  },
  {
   "cell_type": "markdown",
   "metadata": {
    "id": "GGLKx-6qiz-_"
   },
   "source": [
    "Upload the labels.csv and processed_counts.csv files to colab or your local workspace.\n",
    "\n",
    "This data associates a cell barcode, such as \"AAAGCCTGGCTAAC-1\", to a certain cell type label, such as \"CD14+ Monocyte\". For each cell barcode, there are also log RNA seq counts of 765 different genes, such as HES4.\n",
    "\n",
    "label.csv stores the association between a cell barcode and a cell type label.\n",
    "\n",
    "processed_counts.csv stores the normalized log read counts for each cell, where each row represents a single cell, and each column represents a gene."
   ]
  },
  {
   "cell_type": "code",
   "execution_count": 6,
   "metadata": {
    "id": "WelsjSzviy4m"
   },
   "outputs": [
    {
     "data": {
      "text/html": [
       "<div>\n",
       "<style scoped>\n",
       "    .dataframe tbody tr th:only-of-type {\n",
       "        vertical-align: middle;\n",
       "    }\n",
       "\n",
       "    .dataframe tbody tr th {\n",
       "        vertical-align: top;\n",
       "    }\n",
       "\n",
       "    .dataframe thead th {\n",
       "        text-align: right;\n",
       "    }\n",
       "</style>\n",
       "<table border=\"1\" class=\"dataframe\">\n",
       "  <thead>\n",
       "    <tr style=\"text-align: right;\">\n",
       "      <th></th>\n",
       "      <th>index</th>\n",
       "      <th>bulk_labels</th>\n",
       "    </tr>\n",
       "  </thead>\n",
       "  <tbody>\n",
       "    <tr>\n",
       "      <th>0</th>\n",
       "      <td>AAAGCCTGGCTAAC-1</td>\n",
       "      <td>CD14+ Monocyte</td>\n",
       "    </tr>\n",
       "    <tr>\n",
       "      <th>1</th>\n",
       "      <td>AAATTCGATGCACA-1</td>\n",
       "      <td>Dendritic</td>\n",
       "    </tr>\n",
       "    <tr>\n",
       "      <th>2</th>\n",
       "      <td>AACACGTGGTCTTT-1</td>\n",
       "      <td>CD56+ NK</td>\n",
       "    </tr>\n",
       "    <tr>\n",
       "      <th>3</th>\n",
       "      <td>AAGTGCACGTGCTA-1</td>\n",
       "      <td>CD4+/CD25 T Reg</td>\n",
       "    </tr>\n",
       "    <tr>\n",
       "      <th>4</th>\n",
       "      <td>ACACGAACGGAGTG-1</td>\n",
       "      <td>Dendritic</td>\n",
       "    </tr>\n",
       "  </tbody>\n",
       "</table>\n",
       "</div>"
      ],
      "text/plain": [
       "              index      bulk_labels\n",
       "0  AAAGCCTGGCTAAC-1   CD14+ Monocyte\n",
       "1  AAATTCGATGCACA-1        Dendritic\n",
       "2  AACACGTGGTCTTT-1         CD56+ NK\n",
       "3  AAGTGCACGTGCTA-1  CD4+/CD25 T Reg\n",
       "4  ACACGAACGGAGTG-1        Dendritic"
      ]
     },
     "execution_count": 6,
     "metadata": {},
     "output_type": "execute_result"
    }
   ],
   "source": [
    "labels_pd = pd.read_csv(\"labels.csv\")\n",
    "counts_pd = pd.read_csv(\"processed_counts.csv\")\n",
    "labels_pd.head()\n"
   ]
  },
  {
   "cell_type": "code",
   "execution_count": 7,
   "metadata": {
    "id": "aIX8kcTXi7EV"
   },
   "outputs": [
    {
     "data": {
      "text/html": [
       "<div>\n",
       "<style scoped>\n",
       "    .dataframe tbody tr th:only-of-type {\n",
       "        vertical-align: middle;\n",
       "    }\n",
       "\n",
       "    .dataframe tbody tr th {\n",
       "        vertical-align: top;\n",
       "    }\n",
       "\n",
       "    .dataframe thead th {\n",
       "        text-align: right;\n",
       "    }\n",
       "</style>\n",
       "<table border=\"1\" class=\"dataframe\">\n",
       "  <thead>\n",
       "    <tr style=\"text-align: right;\">\n",
       "      <th></th>\n",
       "      <th>Unnamed: 0</th>\n",
       "      <th>HES4</th>\n",
       "      <th>TNFRSF4</th>\n",
       "      <th>SSU72</th>\n",
       "      <th>PARK7</th>\n",
       "      <th>RBP7</th>\n",
       "      <th>SRM</th>\n",
       "      <th>MAD2L2</th>\n",
       "      <th>AGTRAP</th>\n",
       "      <th>TNFRSF1B</th>\n",
       "      <th>...</th>\n",
       "      <th>ATP5O</th>\n",
       "      <th>MRPS6</th>\n",
       "      <th>TTC3</th>\n",
       "      <th>U2AF1</th>\n",
       "      <th>CSTB</th>\n",
       "      <th>SUMO3</th>\n",
       "      <th>ITGB2</th>\n",
       "      <th>S100B</th>\n",
       "      <th>PRMT2</th>\n",
       "      <th>MT-ND3</th>\n",
       "    </tr>\n",
       "  </thead>\n",
       "  <tbody>\n",
       "    <tr>\n",
       "      <th>0</th>\n",
       "      <td>AAAGCCTGGCTAAC-1</td>\n",
       "      <td>-0.326</td>\n",
       "      <td>-0.191</td>\n",
       "      <td>-0.728</td>\n",
       "      <td>-0.301</td>\n",
       "      <td>3.386</td>\n",
       "      <td>-0.531</td>\n",
       "      <td>2.016</td>\n",
       "      <td>3.377</td>\n",
       "      <td>4.841</td>\n",
       "      <td>...</td>\n",
       "      <td>-0.146</td>\n",
       "      <td>-0.532</td>\n",
       "      <td>-0.341</td>\n",
       "      <td>0.303</td>\n",
       "      <td>1.404</td>\n",
       "      <td>4.294</td>\n",
       "      <td>0.519</td>\n",
       "      <td>-0.21</td>\n",
       "      <td>-0.636</td>\n",
       "      <td>4.011</td>\n",
       "    </tr>\n",
       "    <tr>\n",
       "      <th>1</th>\n",
       "      <td>AAATTCGATGCACA-1</td>\n",
       "      <td>1.171</td>\n",
       "      <td>-0.191</td>\n",
       "      <td>0.795</td>\n",
       "      <td>-1.200</td>\n",
       "      <td>-0.174</td>\n",
       "      <td>-0.531</td>\n",
       "      <td>1.889</td>\n",
       "      <td>-0.486</td>\n",
       "      <td>-0.459</td>\n",
       "      <td>...</td>\n",
       "      <td>-1.136</td>\n",
       "      <td>-0.532</td>\n",
       "      <td>-0.341</td>\n",
       "      <td>-0.905</td>\n",
       "      <td>2.849</td>\n",
       "      <td>-0.585</td>\n",
       "      <td>1.172</td>\n",
       "      <td>-0.21</td>\n",
       "      <td>2.630</td>\n",
       "      <td>-0.490</td>\n",
       "    </tr>\n",
       "    <tr>\n",
       "      <th>2</th>\n",
       "      <td>AACACGTGGTCTTT-1</td>\n",
       "      <td>-0.326</td>\n",
       "      <td>-0.191</td>\n",
       "      <td>0.483</td>\n",
       "      <td>-1.200</td>\n",
       "      <td>-0.174</td>\n",
       "      <td>-0.531</td>\n",
       "      <td>-0.451</td>\n",
       "      <td>0.971</td>\n",
       "      <td>-0.459</td>\n",
       "      <td>...</td>\n",
       "      <td>-1.136</td>\n",
       "      <td>2.606</td>\n",
       "      <td>-0.341</td>\n",
       "      <td>-0.905</td>\n",
       "      <td>-0.455</td>\n",
       "      <td>-0.585</td>\n",
       "      <td>0.722</td>\n",
       "      <td>-0.21</td>\n",
       "      <td>0.663</td>\n",
       "      <td>-0.490</td>\n",
       "    </tr>\n",
       "    <tr>\n",
       "      <th>3</th>\n",
       "      <td>AAGTGCACGTGCTA-1</td>\n",
       "      <td>-0.326</td>\n",
       "      <td>-0.191</td>\n",
       "      <td>1.134</td>\n",
       "      <td>-0.157</td>\n",
       "      <td>-0.174</td>\n",
       "      <td>-0.531</td>\n",
       "      <td>-0.451</td>\n",
       "      <td>-0.486</td>\n",
       "      <td>-0.459</td>\n",
       "      <td>...</td>\n",
       "      <td>1.161</td>\n",
       "      <td>-0.532</td>\n",
       "      <td>-0.341</td>\n",
       "      <td>-0.905</td>\n",
       "      <td>-0.119</td>\n",
       "      <td>-0.585</td>\n",
       "      <td>0.766</td>\n",
       "      <td>-0.21</td>\n",
       "      <td>-0.636</td>\n",
       "      <td>-0.490</td>\n",
       "    </tr>\n",
       "    <tr>\n",
       "      <th>4</th>\n",
       "      <td>ACACGAACGGAGTG-1</td>\n",
       "      <td>-0.326</td>\n",
       "      <td>-0.191</td>\n",
       "      <td>-0.728</td>\n",
       "      <td>-0.607</td>\n",
       "      <td>-0.174</td>\n",
       "      <td>-0.531</td>\n",
       "      <td>-0.451</td>\n",
       "      <td>0.787</td>\n",
       "      <td>-0.459</td>\n",
       "      <td>...</td>\n",
       "      <td>-1.136</td>\n",
       "      <td>0.839</td>\n",
       "      <td>1.679</td>\n",
       "      <td>-0.108</td>\n",
       "      <td>-0.534</td>\n",
       "      <td>-0.585</td>\n",
       "      <td>-0.007</td>\n",
       "      <td>-0.21</td>\n",
       "      <td>-0.636</td>\n",
       "      <td>-0.490</td>\n",
       "    </tr>\n",
       "  </tbody>\n",
       "</table>\n",
       "<p>5 rows × 766 columns</p>\n",
       "</div>"
      ],
      "text/plain": [
       "         Unnamed: 0   HES4  TNFRSF4  SSU72  PARK7   RBP7    SRM  MAD2L2  \\\n",
       "0  AAAGCCTGGCTAAC-1 -0.326   -0.191 -0.728 -0.301  3.386 -0.531   2.016   \n",
       "1  AAATTCGATGCACA-1  1.171   -0.191  0.795 -1.200 -0.174 -0.531   1.889   \n",
       "2  AACACGTGGTCTTT-1 -0.326   -0.191  0.483 -1.200 -0.174 -0.531  -0.451   \n",
       "3  AAGTGCACGTGCTA-1 -0.326   -0.191  1.134 -0.157 -0.174 -0.531  -0.451   \n",
       "4  ACACGAACGGAGTG-1 -0.326   -0.191 -0.728 -0.607 -0.174 -0.531  -0.451   \n",
       "\n",
       "   AGTRAP  TNFRSF1B  ...  ATP5O  MRPS6   TTC3  U2AF1   CSTB  SUMO3  ITGB2  \\\n",
       "0   3.377     4.841  ... -0.146 -0.532 -0.341  0.303  1.404  4.294  0.519   \n",
       "1  -0.486    -0.459  ... -1.136 -0.532 -0.341 -0.905  2.849 -0.585  1.172   \n",
       "2   0.971    -0.459  ... -1.136  2.606 -0.341 -0.905 -0.455 -0.585  0.722   \n",
       "3  -0.486    -0.459  ...  1.161 -0.532 -0.341 -0.905 -0.119 -0.585  0.766   \n",
       "4   0.787    -0.459  ... -1.136  0.839  1.679 -0.108 -0.534 -0.585 -0.007   \n",
       "\n",
       "   S100B  PRMT2  MT-ND3  \n",
       "0  -0.21 -0.636   4.011  \n",
       "1  -0.21  2.630  -0.490  \n",
       "2  -0.21  0.663  -0.490  \n",
       "3  -0.21 -0.636  -0.490  \n",
       "4  -0.21 -0.636  -0.490  \n",
       "\n",
       "[5 rows x 766 columns]"
      ]
     },
     "execution_count": 7,
     "metadata": {},
     "output_type": "execute_result"
    }
   ],
   "source": [
    "counts_pd.head()"
   ]
  },
  {
   "cell_type": "markdown",
   "metadata": {
    "id": "wUxSCyz7jBQf"
   },
   "source": [
    "Shuffle your data. Make sure your labels and the counts are shuffled together.\n",
    "\n",
    "Split into train and test sets (80:20 split)"
   ]
  },
  {
   "cell_type": "code",
   "execution_count": null,
   "metadata": {
    "id": "XDTqBhcA7V8t"
   },
   "outputs": [],
   "source": [
    "# https://scikit-learn.org/stable/modules/generated/sklearn.model_selection.ShuffleSplit.html\n",
    "\n",
    "from sklearn.model_selection import ShuffleSplit\n",
    "\n",
    "rs = ShuffleSplit(n_splits=2, test_size=.2, random_state=0)"
   ]
  },
  {
   "cell_type": "markdown",
   "metadata": {
    "id": "XHIg7i1k7U-G"
   },
   "source": [
    "Create a fully connected neural network for your autoencoder. Your latent space can be of any size less than or equal to 64. Too large may result in a poor visualization, and too small may result in high loss. 32 is a good starting point.\n",
    "\n",
    "Consider using more than 1 hidden layer, and a sparcity constraint (l1 regularization).\n",
    "\n",
    "Have an encoder model which is a model of only the layers for the encoding."
   ]
  },
  {
   "cell_type": "code",
   "execution_count": null,
   "metadata": {
    "id": "b8mvigLP7Sej"
   },
   "outputs": [],
   "source": [
    "# See Discussion Part 1 notebook, as well as\n",
    "#https://medium.com/pytorch/implementing-an-autoencoder-in-pytorch-19baa22647d1\n",
    "#on how to implement an autoencoder and\n",
    "#https://stackoverflow.com/questions/68211353/extracting-hidden-representations-from-an-autoencoder-using-pytorch\n",
    "#on how to extract the hidden representation from an autoencoder"
   ]
  },
  {
   "cell_type": "code",
   "execution_count": null,
   "metadata": {
    "id": "Gk1sfdNe76Kl"
   },
   "outputs": [],
   "source": []
  },
  {
   "cell_type": "markdown",
   "metadata": {
    "id": "JjQr4OYW76bN"
   },
   "source": [
    "Train your autoencoding using MSE loss.\n",
    "\n",
    "Finally, identify the parameters which don't overfit, and use the same model architecture and train on all of the data together.\n",
    "\n",
    "With a latent space size of 32, aim for 0.9 MSE loss on your test set, 0.95 with regularization. You will not be graded strictly on a loss cutoff."
   ]
  },
  {
   "cell_type": "code",
   "execution_count": null,
   "metadata": {},
   "outputs": [],
   "source": []
  },
  {
   "cell_type": "code",
   "execution_count": null,
   "metadata": {
    "id": "u4Q6KU3c8u-E"
   },
   "outputs": [],
   "source": []
  },
  {
   "cell_type": "code",
   "execution_count": null,
   "metadata": {
    "id": "7Trjfxkk8wyg"
   },
   "outputs": [],
   "source": []
  },
  {
   "cell_type": "markdown",
   "metadata": {
    "id": "yweQRGit8xDX"
   },
   "source": [
    "Use PCA and t-SNE on the dataset.\n",
    "\n",
    "Then use PCA on the latent space representation of the dataset.\n",
    "\n",
    "Plot all of these."
   ]
  },
  {
   "cell_type": "code",
   "execution_count": null,
   "metadata": {
    "id": "jGa5B6Ir9KN4"
   },
   "outputs": [],
   "source": [
    "# See HW7 (part 1)"
   ]
  },
  {
   "cell_type": "code",
   "execution_count": null,
   "metadata": {
    "id": "I2xcMPP09KxV"
   },
   "outputs": [],
   "source": []
  },
  {
   "cell_type": "markdown",
   "metadata": {
    "id": "kfOYsI9S9K5M"
   },
   "source": [
    "Compare the results of PCA, t-SNE, and your autoencoder as ways to visualize the data."
   ]
  },
  {
   "cell_type": "code",
   "execution_count": null,
   "metadata": {
    "id": "1DPmGoHo9uwx"
   },
   "outputs": [],
   "source": [
    "# Retrieve the embedding\n",
    "# Use PCA on embedding"
   ]
  }
 ],
 "metadata": {
  "colab": {
   "name": "Final Project Part 1 - Autoencoder",
   "provenance": []
  },
  "kernelspec": {
   "display_name": "Python 3 (ipykernel)",
   "language": "python",
   "name": "python3"
  },
  "language_info": {
   "codemirror_mode": {
    "name": "ipython",
    "version": 3
   },
   "file_extension": ".py",
   "mimetype": "text/x-python",
   "name": "python",
   "nbconvert_exporter": "python",
   "pygments_lexer": "ipython3",
   "version": "3.9.13"
  }
 },
 "nbformat": 4,
 "nbformat_minor": 1
}
