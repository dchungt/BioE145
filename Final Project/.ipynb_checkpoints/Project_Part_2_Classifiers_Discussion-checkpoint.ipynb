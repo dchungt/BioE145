{
 "cells": [
  {
   "cell_type": "code",
   "execution_count": 3,
   "metadata": {
    "id": "y_Dn9rzyiqxi"
   },
   "outputs": [],
   "source": [
    "import pandas as pd\n",
    "import numpy as np\n",
    "import torch\n",
    "import torch.nn as nn\n",
    "import sklearn"
   ]
  },
  {
   "cell_type": "markdown",
   "metadata": {
    "id": "GGLKx-6qiz-_"
   },
   "source": [
    "Upload the labels.csv and processed_counts.csv files to colab or your local workspace.\n",
    "\n",
    "**Copied from Part 1:**\n",
    "This data associates a cell barcode, such as \"AAAGCCTGGCTAAC-1\", to a certain cell type label, such as \"CD14+ Monocyte\". For each cell barcode, there are also log RNA seq counts of 765 different genes, such as HES4.\n",
    "\n",
    "label.csv stores the association between a cell barcode and a cell type label.\n",
    "\n",
    "processed_counts.csv stores the normalized log read counts for each cell, where each row represents a single cell, and each column represents a gene."
   ]
  },
  {
   "cell_type": "code",
   "execution_count": 4,
   "metadata": {
    "id": "WelsjSzviy4m"
   },
   "outputs": [],
   "source": [
    "labels_pd = pd.read_csv(\"labels.csv\")\n",
    "counts_pd = pd.read_csv(\"processed_counts.csv\")"
   ]
  },
  {
   "cell_type": "code",
   "execution_count": 5,
   "metadata": {
    "colab": {
     "base_uri": "https://localhost:8080/",
     "height": 592
    },
    "id": "aIX8kcTXi7EV",
    "outputId": "aacbc984-4c80-42bd-d4d5-01bd54f12ca8"
   },
   "outputs": [
    {
     "data": {
      "text/html": [
       "<div>\n",
       "<style scoped>\n",
       "    .dataframe tbody tr th:only-of-type {\n",
       "        vertical-align: middle;\n",
       "    }\n",
       "\n",
       "    .dataframe tbody tr th {\n",
       "        vertical-align: top;\n",
       "    }\n",
       "\n",
       "    .dataframe thead th {\n",
       "        text-align: right;\n",
       "    }\n",
       "</style>\n",
       "<table border=\"1\" class=\"dataframe\">\n",
       "  <thead>\n",
       "    <tr style=\"text-align: right;\">\n",
       "      <th></th>\n",
       "      <th>HES4</th>\n",
       "      <th>TNFRSF4</th>\n",
       "      <th>SSU72</th>\n",
       "      <th>PARK7</th>\n",
       "      <th>RBP7</th>\n",
       "      <th>SRM</th>\n",
       "      <th>MAD2L2</th>\n",
       "      <th>AGTRAP</th>\n",
       "      <th>TNFRSF1B</th>\n",
       "      <th>EFHD2</th>\n",
       "      <th>...</th>\n",
       "      <th>MRPS6</th>\n",
       "      <th>TTC3</th>\n",
       "      <th>U2AF1</th>\n",
       "      <th>CSTB</th>\n",
       "      <th>SUMO3</th>\n",
       "      <th>ITGB2</th>\n",
       "      <th>S100B</th>\n",
       "      <th>PRMT2</th>\n",
       "      <th>MT-ND3</th>\n",
       "      <th>bulk_labels</th>\n",
       "    </tr>\n",
       "  </thead>\n",
       "  <tbody>\n",
       "    <tr>\n",
       "      <th>AAAGCCTGGCTAAC-1</th>\n",
       "      <td>-0.326</td>\n",
       "      <td>-0.191</td>\n",
       "      <td>-0.728</td>\n",
       "      <td>-0.301</td>\n",
       "      <td>3.386</td>\n",
       "      <td>-0.531</td>\n",
       "      <td>2.016</td>\n",
       "      <td>3.377</td>\n",
       "      <td>4.841</td>\n",
       "      <td>-0.525</td>\n",
       "      <td>...</td>\n",
       "      <td>-0.532</td>\n",
       "      <td>-0.341</td>\n",
       "      <td>0.303</td>\n",
       "      <td>1.404</td>\n",
       "      <td>4.294</td>\n",
       "      <td>0.519</td>\n",
       "      <td>-0.21</td>\n",
       "      <td>-0.636</td>\n",
       "      <td>4.011</td>\n",
       "      <td>CD14+ Monocyte</td>\n",
       "    </tr>\n",
       "    <tr>\n",
       "      <th>AAATTCGATGCACA-1</th>\n",
       "      <td>1.171</td>\n",
       "      <td>-0.191</td>\n",
       "      <td>0.795</td>\n",
       "      <td>-1.200</td>\n",
       "      <td>-0.174</td>\n",
       "      <td>-0.531</td>\n",
       "      <td>1.889</td>\n",
       "      <td>-0.486</td>\n",
       "      <td>-0.459</td>\n",
       "      <td>-0.525</td>\n",
       "      <td>...</td>\n",
       "      <td>-0.532</td>\n",
       "      <td>-0.341</td>\n",
       "      <td>-0.905</td>\n",
       "      <td>2.849</td>\n",
       "      <td>-0.585</td>\n",
       "      <td>1.172</td>\n",
       "      <td>-0.21</td>\n",
       "      <td>2.630</td>\n",
       "      <td>-0.490</td>\n",
       "      <td>Dendritic</td>\n",
       "    </tr>\n",
       "    <tr>\n",
       "      <th>AACACGTGGTCTTT-1</th>\n",
       "      <td>-0.326</td>\n",
       "      <td>-0.191</td>\n",
       "      <td>0.483</td>\n",
       "      <td>-1.200</td>\n",
       "      <td>-0.174</td>\n",
       "      <td>-0.531</td>\n",
       "      <td>-0.451</td>\n",
       "      <td>0.971</td>\n",
       "      <td>-0.459</td>\n",
       "      <td>2.286</td>\n",
       "      <td>...</td>\n",
       "      <td>2.606</td>\n",
       "      <td>-0.341</td>\n",
       "      <td>-0.905</td>\n",
       "      <td>-0.455</td>\n",
       "      <td>-0.585</td>\n",
       "      <td>0.722</td>\n",
       "      <td>-0.21</td>\n",
       "      <td>0.663</td>\n",
       "      <td>-0.490</td>\n",
       "      <td>CD56+ NK</td>\n",
       "    </tr>\n",
       "    <tr>\n",
       "      <th>AAGTGCACGTGCTA-1</th>\n",
       "      <td>-0.326</td>\n",
       "      <td>-0.191</td>\n",
       "      <td>1.134</td>\n",
       "      <td>-0.157</td>\n",
       "      <td>-0.174</td>\n",
       "      <td>-0.531</td>\n",
       "      <td>-0.451</td>\n",
       "      <td>-0.486</td>\n",
       "      <td>-0.459</td>\n",
       "      <td>-0.525</td>\n",
       "      <td>...</td>\n",
       "      <td>-0.532</td>\n",
       "      <td>-0.341</td>\n",
       "      <td>-0.905</td>\n",
       "      <td>-0.119</td>\n",
       "      <td>-0.585</td>\n",
       "      <td>0.766</td>\n",
       "      <td>-0.21</td>\n",
       "      <td>-0.636</td>\n",
       "      <td>-0.490</td>\n",
       "      <td>CD4+/CD25 T Reg</td>\n",
       "    </tr>\n",
       "    <tr>\n",
       "      <th>ACACGAACGGAGTG-1</th>\n",
       "      <td>-0.326</td>\n",
       "      <td>-0.191</td>\n",
       "      <td>-0.728</td>\n",
       "      <td>-0.607</td>\n",
       "      <td>-0.174</td>\n",
       "      <td>-0.531</td>\n",
       "      <td>-0.451</td>\n",
       "      <td>0.787</td>\n",
       "      <td>-0.459</td>\n",
       "      <td>1.932</td>\n",
       "      <td>...</td>\n",
       "      <td>0.839</td>\n",
       "      <td>1.679</td>\n",
       "      <td>-0.108</td>\n",
       "      <td>-0.534</td>\n",
       "      <td>-0.585</td>\n",
       "      <td>-0.007</td>\n",
       "      <td>-0.21</td>\n",
       "      <td>-0.636</td>\n",
       "      <td>-0.490</td>\n",
       "      <td>Dendritic</td>\n",
       "    </tr>\n",
       "    <tr>\n",
       "      <th>...</th>\n",
       "      <td>...</td>\n",
       "      <td>...</td>\n",
       "      <td>...</td>\n",
       "      <td>...</td>\n",
       "      <td>...</td>\n",
       "      <td>...</td>\n",
       "      <td>...</td>\n",
       "      <td>...</td>\n",
       "      <td>...</td>\n",
       "      <td>...</td>\n",
       "      <td>...</td>\n",
       "      <td>...</td>\n",
       "      <td>...</td>\n",
       "      <td>...</td>\n",
       "      <td>...</td>\n",
       "      <td>...</td>\n",
       "      <td>...</td>\n",
       "      <td>...</td>\n",
       "      <td>...</td>\n",
       "      <td>...</td>\n",
       "      <td>...</td>\n",
       "    </tr>\n",
       "    <tr>\n",
       "      <th>TGGCACCTCCAACA-8</th>\n",
       "      <td>-0.326</td>\n",
       "      <td>-0.191</td>\n",
       "      <td>0.372</td>\n",
       "      <td>-0.584</td>\n",
       "      <td>-0.174</td>\n",
       "      <td>0.509</td>\n",
       "      <td>-0.451</td>\n",
       "      <td>2.160</td>\n",
       "      <td>-0.459</td>\n",
       "      <td>0.751</td>\n",
       "      <td>...</td>\n",
       "      <td>-0.532</td>\n",
       "      <td>1.758</td>\n",
       "      <td>1.578</td>\n",
       "      <td>0.055</td>\n",
       "      <td>-0.585</td>\n",
       "      <td>0.561</td>\n",
       "      <td>-0.21</td>\n",
       "      <td>0.543</td>\n",
       "      <td>2.593</td>\n",
       "      <td>Dendritic</td>\n",
       "    </tr>\n",
       "    <tr>\n",
       "      <th>TGTGAGTGCTTTAC-8</th>\n",
       "      <td>3.166</td>\n",
       "      <td>-0.191</td>\n",
       "      <td>-0.728</td>\n",
       "      <td>-1.200</td>\n",
       "      <td>-0.174</td>\n",
       "      <td>-0.531</td>\n",
       "      <td>-0.451</td>\n",
       "      <td>-0.486</td>\n",
       "      <td>-0.459</td>\n",
       "      <td>1.536</td>\n",
       "      <td>...</td>\n",
       "      <td>-0.532</td>\n",
       "      <td>-0.341</td>\n",
       "      <td>0.432</td>\n",
       "      <td>0.753</td>\n",
       "      <td>-0.585</td>\n",
       "      <td>-0.171</td>\n",
       "      <td>-0.21</td>\n",
       "      <td>1.268</td>\n",
       "      <td>-0.490</td>\n",
       "      <td>Dendritic</td>\n",
       "    </tr>\n",
       "    <tr>\n",
       "      <th>TGTTACTGGCGATT-8</th>\n",
       "      <td>-0.326</td>\n",
       "      <td>-0.191</td>\n",
       "      <td>-0.728</td>\n",
       "      <td>-1.200</td>\n",
       "      <td>-0.174</td>\n",
       "      <td>1.784</td>\n",
       "      <td>-0.451</td>\n",
       "      <td>-0.486</td>\n",
       "      <td>-0.459</td>\n",
       "      <td>-0.525</td>\n",
       "      <td>...</td>\n",
       "      <td>-0.532</td>\n",
       "      <td>-0.341</td>\n",
       "      <td>1.858</td>\n",
       "      <td>0.814</td>\n",
       "      <td>-0.585</td>\n",
       "      <td>0.152</td>\n",
       "      <td>-0.21</td>\n",
       "      <td>-0.636</td>\n",
       "      <td>1.226</td>\n",
       "      <td>CD4+/CD25 T Reg</td>\n",
       "    </tr>\n",
       "    <tr>\n",
       "      <th>TTCAGTACCGGGAA-8</th>\n",
       "      <td>-0.326</td>\n",
       "      <td>-0.191</td>\n",
       "      <td>-0.728</td>\n",
       "      <td>-0.386</td>\n",
       "      <td>-0.174</td>\n",
       "      <td>-0.531</td>\n",
       "      <td>-0.451</td>\n",
       "      <td>-0.486</td>\n",
       "      <td>-0.459</td>\n",
       "      <td>-0.525</td>\n",
       "      <td>...</td>\n",
       "      <td>-0.532</td>\n",
       "      <td>-0.341</td>\n",
       "      <td>2.378</td>\n",
       "      <td>0.420</td>\n",
       "      <td>0.888</td>\n",
       "      <td>-0.326</td>\n",
       "      <td>-0.21</td>\n",
       "      <td>-0.636</td>\n",
       "      <td>-0.490</td>\n",
       "      <td>CD19+ B</td>\n",
       "    </tr>\n",
       "    <tr>\n",
       "      <th>TTGAGGTGGAGAGC-8</th>\n",
       "      <td>-0.326</td>\n",
       "      <td>-0.191</td>\n",
       "      <td>0.148</td>\n",
       "      <td>0.762</td>\n",
       "      <td>-0.174</td>\n",
       "      <td>0.298</td>\n",
       "      <td>-0.451</td>\n",
       "      <td>-0.486</td>\n",
       "      <td>0.505</td>\n",
       "      <td>-0.525</td>\n",
       "      <td>...</td>\n",
       "      <td>-0.532</td>\n",
       "      <td>-0.341</td>\n",
       "      <td>1.073</td>\n",
       "      <td>-0.628</td>\n",
       "      <td>-0.585</td>\n",
       "      <td>0.239</td>\n",
       "      <td>-0.21</td>\n",
       "      <td>-0.636</td>\n",
       "      <td>-0.490</td>\n",
       "      <td>Dendritic</td>\n",
       "    </tr>\n",
       "  </tbody>\n",
       "</table>\n",
       "<p>700 rows × 766 columns</p>\n",
       "</div>"
      ],
      "text/plain": [
       "                   HES4  TNFRSF4  SSU72  PARK7   RBP7    SRM  MAD2L2  AGTRAP  \\\n",
       "AAAGCCTGGCTAAC-1 -0.326   -0.191 -0.728 -0.301  3.386 -0.531   2.016   3.377   \n",
       "AAATTCGATGCACA-1  1.171   -0.191  0.795 -1.200 -0.174 -0.531   1.889  -0.486   \n",
       "AACACGTGGTCTTT-1 -0.326   -0.191  0.483 -1.200 -0.174 -0.531  -0.451   0.971   \n",
       "AAGTGCACGTGCTA-1 -0.326   -0.191  1.134 -0.157 -0.174 -0.531  -0.451  -0.486   \n",
       "ACACGAACGGAGTG-1 -0.326   -0.191 -0.728 -0.607 -0.174 -0.531  -0.451   0.787   \n",
       "...                 ...      ...    ...    ...    ...    ...     ...     ...   \n",
       "TGGCACCTCCAACA-8 -0.326   -0.191  0.372 -0.584 -0.174  0.509  -0.451   2.160   \n",
       "TGTGAGTGCTTTAC-8  3.166   -0.191 -0.728 -1.200 -0.174 -0.531  -0.451  -0.486   \n",
       "TGTTACTGGCGATT-8 -0.326   -0.191 -0.728 -1.200 -0.174  1.784  -0.451  -0.486   \n",
       "TTCAGTACCGGGAA-8 -0.326   -0.191 -0.728 -0.386 -0.174 -0.531  -0.451  -0.486   \n",
       "TTGAGGTGGAGAGC-8 -0.326   -0.191  0.148  0.762 -0.174  0.298  -0.451  -0.486   \n",
       "\n",
       "                  TNFRSF1B  EFHD2  ...  MRPS6   TTC3  U2AF1   CSTB  SUMO3  \\\n",
       "AAAGCCTGGCTAAC-1     4.841 -0.525  ... -0.532 -0.341  0.303  1.404  4.294   \n",
       "AAATTCGATGCACA-1    -0.459 -0.525  ... -0.532 -0.341 -0.905  2.849 -0.585   \n",
       "AACACGTGGTCTTT-1    -0.459  2.286  ...  2.606 -0.341 -0.905 -0.455 -0.585   \n",
       "AAGTGCACGTGCTA-1    -0.459 -0.525  ... -0.532 -0.341 -0.905 -0.119 -0.585   \n",
       "ACACGAACGGAGTG-1    -0.459  1.932  ...  0.839  1.679 -0.108 -0.534 -0.585   \n",
       "...                    ...    ...  ...    ...    ...    ...    ...    ...   \n",
       "TGGCACCTCCAACA-8    -0.459  0.751  ... -0.532  1.758  1.578  0.055 -0.585   \n",
       "TGTGAGTGCTTTAC-8    -0.459  1.536  ... -0.532 -0.341  0.432  0.753 -0.585   \n",
       "TGTTACTGGCGATT-8    -0.459 -0.525  ... -0.532 -0.341  1.858  0.814 -0.585   \n",
       "TTCAGTACCGGGAA-8    -0.459 -0.525  ... -0.532 -0.341  2.378  0.420  0.888   \n",
       "TTGAGGTGGAGAGC-8     0.505 -0.525  ... -0.532 -0.341  1.073 -0.628 -0.585   \n",
       "\n",
       "                  ITGB2  S100B  PRMT2  MT-ND3      bulk_labels  \n",
       "AAAGCCTGGCTAAC-1  0.519  -0.21 -0.636   4.011   CD14+ Monocyte  \n",
       "AAATTCGATGCACA-1  1.172  -0.21  2.630  -0.490        Dendritic  \n",
       "AACACGTGGTCTTT-1  0.722  -0.21  0.663  -0.490         CD56+ NK  \n",
       "AAGTGCACGTGCTA-1  0.766  -0.21 -0.636  -0.490  CD4+/CD25 T Reg  \n",
       "ACACGAACGGAGTG-1 -0.007  -0.21 -0.636  -0.490        Dendritic  \n",
       "...                 ...    ...    ...     ...              ...  \n",
       "TGGCACCTCCAACA-8  0.561  -0.21  0.543   2.593        Dendritic  \n",
       "TGTGAGTGCTTTAC-8 -0.171  -0.21  1.268  -0.490        Dendritic  \n",
       "TGTTACTGGCGATT-8  0.152  -0.21 -0.636   1.226  CD4+/CD25 T Reg  \n",
       "TTCAGTACCGGGAA-8 -0.326  -0.21 -0.636  -0.490          CD19+ B  \n",
       "TTGAGGTGGAGAGC-8  0.239  -0.21 -0.636  -0.490        Dendritic  \n",
       "\n",
       "[700 rows x 766 columns]"
      ]
     },
     "execution_count": 5,
     "metadata": {},
     "output_type": "execute_result"
    }
   ],
   "source": [
    "labels_pd.index = labels_pd['index']\n",
    "labels_pd.drop(\"index\", axis=1, inplace=True)\n",
    "counts_pd.index = counts_pd['Unnamed: 0']\n",
    "counts_pd.drop(\"Unnamed: 0\", axis=1, inplace=True)\n",
    "\n",
    "df = counts_pd.merge(labels_pd, left_index=True, right_index=True).dropna()\n",
    "df"
   ]
  },
  {
   "cell_type": "markdown",
   "metadata": {
    "id": "wUxSCyz7jBQf"
   },
   "source": [
    "One-hot encode the cell-type.\n",
    "\n",
    "Shuffle your data. Make sure your labels and the counts are shuffled together.\n",
    "\n",
    "Split into train and test sets (80:20 split)"
   ]
  },
  {
   "cell_type": "code",
   "execution_count": 8,
   "metadata": {
    "colab": {
     "base_uri": "https://localhost:8080/"
    },
    "id": "XDTqBhcA7V8t",
    "outputId": "f30f081b-ccb4-4076-f774-f31c4f240951"
   },
   "outputs": [
    {
     "name": "stdout",
     "output_type": "stream",
     "text": [
      "['CD14+ Monocyte' 'Dendritic' 'CD56+ NK' 'CD4+/CD25 T Reg' 'CD19+ B'\n",
      " 'CD8+ Cytotoxic T' 'CD4+/CD45RO+ Memory' 'CD8+/CD45RA+ Naive Cytotoxic'\n",
      " 'CD4+/CD45RA+/CD25- Naive T' 'CD34+']\n"
     ]
    }
   ],
   "source": [
    "categories = df['bulk_labels'].unique()\n",
    "print(categories)\n",
    "\n",
    "#one-hot encoding\n",
    "y = np.zeros((len(df), len(categories)))\n",
    "for i in range(len(df)):\n",
    "    cell_type = df.iloc[i]['bulk_labels']\n",
    "    pos = np.where(categories == cell_type)[0]\n",
    "    y[i, pos] = 1\n",
    "\n",
    "#remove label when processing input data\n",
    "X = df.drop('bulk_labels', axis=1).values\n",
    "\n",
    "#shufle and 80:20 split\n",
    "np.random.seed(100)\n",
    "permutation = np.random.permutation(len(X))\n",
    "X, y = X[permutation], y[permutation]\n",
    "\n",
    "X_train, y_train = X[:int(len(X)*0.8)], y[:int(len(y)*0.8)]\n",
    "X_test, y_test = X[int(len(X)*0.8):], y[int(len(y)*0.8):]"
   ]
  },
  {
   "cell_type": "code",
   "execution_count": 9,
   "metadata": {
    "colab": {
     "base_uri": "https://localhost:8080/",
     "height": 854
    },
    "id": "l0Xrhu4LZNa9",
    "outputId": "0c62d1cb-7cfc-4e11-ec81-0a5b474f116f"
   },
   "outputs": [
    {
     "data": {
      "text/plain": [
       "<matplotlib.image.AxesImage at 0x7fef6c9fbaf0>"
      ]
     },
     "execution_count": 9,
     "metadata": {},
     "output_type": "execute_result"
    },
    {
     "data": {
      "image/png": "[encoded data removed]",
      "text/plain": [
       "<Figure size 2700x900 with 1 Axes>"
      ]
     },
     "metadata": {
      "needs_background": "light"
     },
     "output_type": "display_data"
    }
   ],
   "source": [
    "#Visualize the One-hot encoded Prediction Labels\n",
    "import matplotlib.pyplot as plt\n",
    "plt.figure(figsize=(9,3), dpi=300)\n",
    "plt.imshow(y_train[:50])"
   ]
  },
  {
   "cell_type": "markdown",
   "metadata": {
    "id": "XHIg7i1k7U-G"
   },
   "source": [
    "Apply classification algorithms to the training data, tune on validation data (if present), and evaluate on test data.\n",
    "\n",
    "Try out a few different classifiers, and experiment with different parameters! You can use decision trees, random forests, logistic regressions, KNNs, feedforward neural networks, etc. You can also try applying ensemble methods such as bagging and boosting to these classifiers.\n",
    "\n",
    "You can also apply classification downstream of last week's autoencoder latent space representation.\n",
    "\n",
    "A good target accuracy to aim for is at least 80% on the test set (but there is no strict grading cutoff for accuracy)."
   ]
  },
  {
   "cell_type": "code",
   "execution_count": 2,
   "metadata": {
    "id": "b8mvigLP7Sej"
   },
   "outputs": [],
   "source": [
    "# Decision trees: https://scikit-learn.org/stable/modules/tree.html\n",
    "# Ensemble methods: https://scikit-learn.org/stable/modules/ensemble.html\n"
   ]
  },
  {
   "cell_type": "code",
   "execution_count": 2,
   "metadata": {
    "id": "Gk1sfdNe76Kl"
   },
   "outputs": [],
   "source": [
    "# FFNN hints: \n",
    "# Use softmax at the end, reLU for the rest\n",
    "# Add layers until desired loss\n",
    "# Categorical cross-entropy for loss func\n",
    "# Add dropout layers to avoid overfitting\n",
    "# Can also implement bagging for FFNNs (but probably not necessary)\n"
   ]
  },
  {
   "cell_type": "code",
   "execution_count": 1,
   "metadata": {
    "id": "u4Q6KU3c8u-E"
   },
   "outputs": [],
   "source": [
    "# Cross-validation: https://scikit-learn.org/stable/modules/cross_validation.html\n",
    "#(recommended for decision trees/random forests)\n",
    "# from sklearn.model_selection import cross_val_score\n",
    "# scores = cross_val_score(clf, X, y, cv=5)\n",
    "# where: \n",
    "# clf -> classifier object\n",
    "# cv -> number of folds of cross-validation (can also pass output of ShuffleSplit)"
   ]
  },
  {
   "cell_type": "code",
   "execution_count": 2,
   "metadata": {
    "id": "7Trjfxkk8wyg"
   },
   "outputs": [],
   "source": []
  },
  {
   "cell_type": "code",
   "execution_count": 2,
   "metadata": {
    "id": "jGa5B6Ir9KN4"
   },
   "outputs": [],
   "source": []
  },
  {
   "cell_type": "code",
   "execution_count": 2,
   "metadata": {
    "id": "I2xcMPP09KxV"
   },
   "outputs": [],
   "source": []
  },
  {
   "cell_type": "code",
   "execution_count": 2,
   "metadata": {
    "id": "1DPmGoHo9uwx"
   },
   "outputs": [],
   "source": []
  },
  {
   "cell_type": "code",
   "execution_count": null,
   "metadata": {
    "id": "Kx7cMeYPFiEA"
   },
   "outputs": [],
   "source": []
  }
 ],
 "metadata": {
  "colab": {
   "collapsed_sections": [],
   "name": "Final Project Part 2 - Classification",
   "provenance": []
  },
  "kernelspec": {
   "display_name": "Python 3 (ipykernel)",
   "language": "python",
   "name": "python3"
  },
  "language_info": {
   "codemirror_mode": {
    "name": "ipython",
    "version": 3
   },
   "file_extension": ".py",
   "mimetype": "text/x-python",
   "name": "python",
   "nbconvert_exporter": "python",
   "pygments_lexer": "ipython3",
   "version": "3.9.13"
  }
 },
 "nbformat": 4,
 "nbformat_minor": 1
}
