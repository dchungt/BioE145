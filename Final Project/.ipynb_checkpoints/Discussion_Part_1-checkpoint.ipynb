{
 "cells": [
  {
   "cell_type": "code",
   "execution_count": 30,
   "id": "866463e6",
   "metadata": {
    "id": "866463e6"
   },
   "outputs": [],
   "source": [
    "import torch\n",
    "import torch.nn as nn\n",
    "import torchvision\n",
    "%matplotlib inline\n",
    "import matplotlib.pyplot as plt\n",
    "import numpy as np"
   ]
  },
  {
   "cell_type": "markdown",
   "id": "gagR-ZXWQ4KJ",
   "metadata": {
    "id": "gagR-ZXWQ4KJ"
   },
   "source": [
    "Refer to https://medium.com/pytorch/implementing-an-autoencoder-in-pytorch-19baa22647d1"
   ]
  },
  {
   "cell_type": "code",
   "execution_count": 57,
   "id": "cf6f3435",
   "metadata": {
    "id": "cf6f3435"
   },
   "outputs": [],
   "source": [
    "class Autoencoder(nn.Module):\n",
    "    def __init__(self, **kwargs):\n",
    "        super().__init__()\n",
    "        self.encoder_hidden_layer = nn.Linear(\n",
    "            in_features=kwargs[\"input_shape\"], out_features=128\n",
    "        )\n",
    "        self.encoder_output_layer = nn.Linear(\n",
    "            in_features=128, out_features=32\n",
    "        )\n",
    "        #Here, we have a latent representation of 32 features\n",
    "        self.decoder_hidden_layer = nn.Linear(\n",
    "            in_features=32, out_features=128\n",
    "        )\n",
    "        self.decoder_output_layer = nn.Linear(\n",
    "            in_features=128, out_features=kwargs[\"input_shape\"]\n",
    "        )\n",
    "\n",
    "    def forward(self, features, return_encoding=False): \n",
    "        #when return encoding is True, \n",
    "        #forward will return both the reconstructed data and the latent encoding\n",
    "        encoded = self.encoder_hidden_layer(features)\n",
    "        encoded  = torch.relu(encoded)\n",
    "        encoded  = self.encoder_output_layer(encoded)\n",
    "        encoded = torch.relu(encoded)\n",
    "        decoded = self.decoder_hidden_layer(encoded)\n",
    "        decoded = torch.relu(decoded)\n",
    "        decoded = self.decoder_output_layer(decoded)\n",
    "        reconstructed = torch.sigmoid(decoded) #values in MNIST range from 0 to 1, so we should restrict output to [0,1] using sigmoid\n",
    "        if return_encoding: #see https://stackoverflow.com/questions/68211353/extracting-hidden-representations-from-an-autoencoder-using-pytorch\n",
    "            return reconstructed, encoded\n",
    "        return reconstructed"
   ]
  },
  {
   "cell_type": "markdown",
   "id": "NFpzT0WJNGSa",
   "metadata": {
    "id": "NFpzT0WJNGSa"
   },
   "source": []
  },
  {
   "cell_type": "code",
   "execution_count": 58,
   "id": "3d5094c4",
   "metadata": {
    "id": "3d5094c4"
   },
   "outputs": [],
   "source": [
    "#  use gpu if available\n",
    "device = torch.device(\"cuda\" if torch.cuda.is_available() else \"cpu\")\n",
    "\n",
    "# create a model from autoencoder class\n",
    "# load it to the specified device, either gpu or cpu\n",
    "model = Autoencoder(input_shape=784).to(device)\n",
    "\n",
    "# create an optimizer object\n",
    "# Adam optimizer with learning rate 1e-3\n",
    "optimizer = torch.optim.Adam(model.parameters(), lr=1e-3)\n",
    "\n",
    "# mean-squared error loss\n",
    "criterion = nn.MSELoss() #comparing decoded image to encoded image"
   ]
  },
  {
   "cell_type": "code",
   "execution_count": 59,
   "id": "fbaab040",
   "metadata": {
    "id": "fbaab040"
   },
   "outputs": [],
   "source": [
    "transform = torchvision.transforms.Compose([torchvision.transforms.ToTensor()])\n",
    "\n",
    "train_dataset = torchvision.datasets.MNIST(\n",
    "    root=\"~/torch_datasets\", train=True, transform=transform, download=True\n",
    ")\n",
    "\n",
    "test_dataset = torchvision.datasets.MNIST(\n",
    "    root=\"~/torch_datasets\", train=False, transform=transform, download=True\n",
    ")\n",
    "\n",
    "train_loader = torch.utils.data.DataLoader(\n",
    "    train_dataset, batch_size=128, shuffle=True, num_workers=2, pin_memory=True\n",
    ")\n",
    "\n",
    "test_loader = torch.utils.data.DataLoader(\n",
    "    test_dataset, batch_size=32, shuffle=False, num_workers=2\n",
    ")"
   ]
  },
  {
   "cell_type": "code",
   "execution_count": 60,
   "id": "b4885387",
   "metadata": {
    "colab": {
     "base_uri": "https://localhost:8080/",
     "height": 1000
    },
    "id": "b4885387",
    "outputId": "47efdfdb-10fd-4fe9-cd79-5fca14a1852a"
   },
   "outputs": [
    {
     "name": "stdout",
     "output_type": "stream",
     "text": [
      "torch.Size([128, 784]) torch.Size([128])\n",
      "tensor([0.0000, 0.0000, 0.0000, 0.0000, 0.0000, 0.0000, 0.0000, 0.0000, 0.0000,\n",
      "        0.0000, 0.0000, 0.0000, 0.0000, 0.0000, 0.0000, 0.0000, 0.0000, 0.0000,\n",
      "        0.0000, 0.0000, 0.0000, 0.0000, 0.0000, 0.0000, 0.0000, 0.0000, 0.0000,\n",
      "        0.0000, 0.0000, 0.0000, 0.0000, 0.0000, 0.0000, 0.0000, 0.0000, 0.0000,\n",
      "        0.0000, 0.0000, 0.0000, 0.0000, 0.0000, 0.0000, 0.0000, 0.0000, 0.0000,\n",
      "        0.0000, 0.0000, 0.0000, 0.0000, 0.0000, 0.0000, 0.0000, 0.0000, 0.0000,\n",
      "        0.0000, 0.0000, 0.0000, 0.0000, 0.0000, 0.0000, 0.0000, 0.0000, 0.0000,\n",
      "        0.0000, 0.0000, 0.0000, 0.0000, 0.0000, 0.0000, 0.0000, 0.0000, 0.0000,\n",
      "        0.0000, 0.0000, 0.0000, 0.0000, 0.0000, 0.0000, 0.0000, 0.0000, 0.0000,\n",
      "        0.0000, 0.0000, 0.0000, 0.0000, 0.0000, 0.0000, 0.0000, 0.0000, 0.0000,\n",
      "        0.0000, 0.0000, 0.0000, 0.0000, 0.0000, 0.0000, 0.0000, 0.5294, 0.9922,\n",
      "        0.9922, 0.7529, 0.0588, 0.0000, 0.0000, 0.0000, 0.0000, 0.0000, 0.0000,\n",
      "        0.0000, 0.0000, 0.0000, 0.0000, 0.0000, 0.0000, 0.0000, 0.0000, 0.0000,\n",
      "        0.0000, 0.0000, 0.0000, 0.0000, 0.0000, 0.0000, 0.0000, 0.5294, 0.9686,\n",
      "        0.9882, 0.9882, 0.9922, 0.7059, 0.0824, 0.0000, 0.0000, 0.0000, 0.0000,\n",
      "        0.0000, 0.0000, 0.0000, 0.0000, 0.0000, 0.0000, 0.0000, 0.0000, 0.0000,\n",
      "        0.0000, 0.0000, 0.0000, 0.0000, 0.0000, 0.0000, 0.0000, 0.4118, 0.9922,\n",
      "        0.9882, 0.9882, 0.9882, 0.9922, 0.9882, 0.2784, 0.0000, 0.0000, 0.0000,\n",
      "        0.0000, 0.0000, 0.0000, 0.0000, 0.0000, 0.0000, 0.0000, 0.0000, 0.0000,\n",
      "        0.0000, 0.0000, 0.0000, 0.0000, 0.0000, 0.0000, 0.0039, 0.0824, 0.8078,\n",
      "        0.9922, 0.9882, 0.9882, 0.9882, 0.9922, 0.9882, 0.2784, 0.0000, 0.0000,\n",
      "        0.0000, 0.0000, 0.0000, 0.0000, 0.0000, 0.0000, 0.0000, 0.0000, 0.0000,\n",
      "        0.0000, 0.0000, 0.0000, 0.0000, 0.0000, 0.0000, 0.0000, 0.2863, 0.9882,\n",
      "        0.9882, 0.9922, 0.9882, 0.9882, 0.9882, 0.9922, 0.7020, 0.0000, 0.0000,\n",
      "        0.0000, 0.0000, 0.0000, 0.0000, 0.0000, 0.0000, 0.0000, 0.0000, 0.0000,\n",
      "        0.0000, 0.0000, 0.0000, 0.0000, 0.0000, 0.0000, 0.0000, 0.1255, 0.8118,\n",
      "        0.9882, 0.9882, 0.9922, 0.9882, 0.9882, 0.9882, 0.8706, 0.1765, 0.0000,\n",
      "        0.0000, 0.0000, 0.0000, 0.0000, 0.0000, 0.0000, 0.0000, 0.0000, 0.0000,\n",
      "        0.0000, 0.0000, 0.0000, 0.0000, 0.0000, 0.0000, 0.0000, 0.0824, 0.8275,\n",
      "        0.9882, 0.9882, 0.9882, 0.9922, 0.9882, 0.9882, 0.9059, 0.4902, 0.0000,\n",
      "        0.0000, 0.0000, 0.0000, 0.0000, 0.0000, 0.0000, 0.0000, 0.0000, 0.0000,\n",
      "        0.0000, 0.0000, 0.0000, 0.0000, 0.0000, 0.0000, 0.0000, 0.0824, 0.8078,\n",
      "        0.9882, 0.9882, 0.9882, 0.9882, 0.9922, 0.9882, 0.9882, 0.7451, 0.3294,\n",
      "        0.4902, 0.5647, 0.5647, 0.3294, 0.0000, 0.0000, 0.0000, 0.0000, 0.0000,\n",
      "        0.0000, 0.0000, 0.0000, 0.0000, 0.0000, 0.0000, 0.0000, 0.1255, 0.8314,\n",
      "        0.9922, 0.9922, 0.9922, 0.9922, 0.9922, 1.0000, 0.9922, 0.9922, 0.9922,\n",
      "        1.0000, 0.9922, 0.9922, 0.9922, 1.0000, 0.3843, 0.0000, 0.0000, 0.0000,\n",
      "        0.0000, 0.0000, 0.0000, 0.0000, 0.0000, 0.0000, 0.0000, 0.1255, 0.8118,\n",
      "        0.9882, 0.9882, 0.9882, 0.9882, 0.9882, 0.9882, 0.9922, 0.9882, 0.9882,\n",
      "        0.9882, 0.9922, 0.9882, 0.9882, 0.9882, 0.9922, 0.9490, 0.7294, 0.0000,\n",
      "        0.0000, 0.0000, 0.0000, 0.0000, 0.0000, 0.0000, 0.0000, 0.0000, 0.4275,\n",
      "        0.9882, 0.9882, 0.9882, 0.9882, 0.9882, 0.9882, 0.9882, 0.9922, 0.9882,\n",
      "        0.9882, 0.9882, 0.9922, 0.9882, 0.9882, 0.9882, 0.9922, 0.9882, 0.8431,\n",
      "        0.0000, 0.0000, 0.0000, 0.0000, 0.0000, 0.0000, 0.0000, 0.0000, 0.0000,\n",
      "        0.1843, 0.5804, 0.9882, 0.9882, 0.9882, 0.9882, 0.9882, 0.9882, 0.9922,\n",
      "        0.9882, 0.9882, 0.9882, 0.9922, 0.9882, 0.9882, 0.9882, 0.9922, 0.9882,\n",
      "        0.8431, 0.0000, 0.0000, 0.0000, 0.0000, 0.0000, 0.0000, 0.0000, 0.0000,\n",
      "        0.0000, 0.0000, 0.1647, 0.8706, 0.9922, 0.9922, 0.9922, 0.9922, 0.9922,\n",
      "        1.0000, 0.9922, 0.9922, 0.9922, 1.0000, 0.9922, 0.9922, 0.9922, 1.0000,\n",
      "        0.9922, 0.9098, 0.1843, 0.0000, 0.0000, 0.0000, 0.0000, 0.0000, 0.0000,\n",
      "        0.0000, 0.0000, 0.0000, 0.0000, 0.7098, 0.9882, 0.9882, 0.9882, 0.9882,\n",
      "        0.9882, 0.9922, 0.9882, 0.9882, 0.9882, 0.9922, 0.9882, 0.9882, 0.9882,\n",
      "        0.9922, 0.9882, 0.9882, 0.4235, 0.0000, 0.0000, 0.0000, 0.0000, 0.0000,\n",
      "        0.0000, 0.0000, 0.0000, 0.0000, 0.0000, 0.6078, 0.9255, 0.9882, 0.9882,\n",
      "        0.9882, 0.9882, 0.9922, 0.9882, 0.9882, 0.9882, 0.9922, 0.9882, 0.9882,\n",
      "        0.9882, 0.9922, 0.9882, 0.9647, 0.3608, 0.0000, 0.0000, 0.0000, 0.0000,\n",
      "        0.0000, 0.0000, 0.0000, 0.0000, 0.0000, 0.0000, 0.0000, 0.2431, 0.9882,\n",
      "        0.9882, 0.9882, 0.9882, 0.9922, 0.9882, 0.9882, 0.9882, 0.9922, 0.9882,\n",
      "        0.9882, 0.9882, 0.4235, 0.4235, 0.3608, 0.0000, 0.0000, 0.0000, 0.0000,\n",
      "        0.0000, 0.0000, 0.0000, 0.0000, 0.0000, 0.0000, 0.0000, 0.0000, 0.0000,\n",
      "        0.4314, 0.9922, 0.9922, 0.9922, 1.0000, 0.9922, 0.9922, 0.9922, 1.0000,\n",
      "        0.9922, 0.9922, 0.9922, 0.2471, 0.2471, 0.0000, 0.0000, 0.0000, 0.0000,\n",
      "        0.0000, 0.0000, 0.0000, 0.0000, 0.0000, 0.0000, 0.0000, 0.0000, 0.0000,\n",
      "        0.0000, 0.3059, 0.9490, 0.9882, 0.9882, 0.9922, 0.9882, 0.9882, 0.9882,\n",
      "        0.9922, 0.9882, 0.9882, 0.8235, 0.6471, 0.4863, 0.0000, 0.0000, 0.0000,\n",
      "        0.0000, 0.0000, 0.0000, 0.0000, 0.0000, 0.0000, 0.0000, 0.0000, 0.0000,\n",
      "        0.0000, 0.0000, 0.0000, 0.7686, 0.9882, 0.9882, 0.9922, 0.9882, 0.9882,\n",
      "        0.9882, 0.9922, 0.9451, 0.7647, 0.1216, 0.0000, 0.0000, 0.0000, 0.0000,\n",
      "        0.0000, 0.0000, 0.0000, 0.0000, 0.0000, 0.0000, 0.0000, 0.0000, 0.0000,\n",
      "        0.0000, 0.0000, 0.0000, 0.0000, 0.1216, 0.5020, 0.9882, 0.9922, 0.9882,\n",
      "        0.5804, 0.4235, 0.4235, 0.3020, 0.0000, 0.0000, 0.0000, 0.0000, 0.0000,\n",
      "        0.0000, 0.0000, 0.0000, 0.0000, 0.0000, 0.0000, 0.0000, 0.0000, 0.0000,\n",
      "        0.0000, 0.0000, 0.0000, 0.0000, 0.0000, 0.0000, 0.0000, 0.0000, 0.0000,\n",
      "        0.0000, 0.0000, 0.0000, 0.0000, 0.0000, 0.0000, 0.0000, 0.0000, 0.0000,\n",
      "        0.0000, 0.0000, 0.0000, 0.0000, 0.0000, 0.0000, 0.0000, 0.0000, 0.0000,\n",
      "        0.0000, 0.0000, 0.0000, 0.0000, 0.0000, 0.0000, 0.0000, 0.0000, 0.0000,\n",
      "        0.0000, 0.0000, 0.0000, 0.0000, 0.0000, 0.0000, 0.0000, 0.0000, 0.0000,\n",
      "        0.0000, 0.0000, 0.0000, 0.0000, 0.0000, 0.0000, 0.0000, 0.0000, 0.0000,\n",
      "        0.0000, 0.0000, 0.0000, 0.0000, 0.0000, 0.0000, 0.0000, 0.0000, 0.0000,\n",
      "        0.0000, 0.0000, 0.0000, 0.0000, 0.0000, 0.0000, 0.0000, 0.0000, 0.0000,\n",
      "        0.0000, 0.0000, 0.0000, 0.0000, 0.0000, 0.0000, 0.0000, 0.0000, 0.0000,\n",
      "        0.0000, 0.0000, 0.0000, 0.0000, 0.0000, 0.0000, 0.0000, 0.0000, 0.0000,\n",
      "        0.0000, 0.0000, 0.0000, 0.0000, 0.0000, 0.0000, 0.0000, 0.0000, 0.0000,\n",
      "        0.0000, 0.0000, 0.0000, 0.0000, 0.0000, 0.0000, 0.0000, 0.0000, 0.0000,\n",
      "        0.0000, 0.0000, 0.0000, 0.0000, 0.0000, 0.0000, 0.0000, 0.0000, 0.0000,\n",
      "        0.0000, 0.0000, 0.0000, 0.0000, 0.0000, 0.0000, 0.0000, 0.0000, 0.0000,\n",
      "        0.0000, 0.0000, 0.0000, 0.0000, 0.0000, 0.0000, 0.0000, 0.0000, 0.0000,\n",
      "        0.0000])\n"
     ]
    },
    {
     "data": {
      "image/png": "[encoded data removed]",
      "text/plain": [
       "<Figure size 640x480 with 10 Axes>"
      ]
     },
     "metadata": {},
     "output_type": "display_data"
    }
   ],
   "source": [
    "for imgs, labels in train_loader:\n",
    "    imgs = imgs.view(-1, 784)\n",
    "    print(imgs.shape, labels.shape)\n",
    "    print(imgs[0])\n",
    "    \n",
    "    n = 10\n",
    "    for i in range(n):\n",
    "        #original test images\n",
    "        ax = plt.subplot(2, n, i+1)\n",
    "        plt.imshow(imgs[i].reshape(28, 28))\n",
    "        plt.gray()\n",
    "        ax.get_xaxis().set_visible(False)\n",
    "        ax.get_yaxis().set_visible(False)\n",
    "    plt.show()\n",
    "    break"
   ]
  },
  {
   "cell_type": "code",
   "execution_count": 61,
   "id": "aca41825",
   "metadata": {
    "colab": {
     "base_uri": "https://localhost:8080/"
    },
    "id": "aca41825",
    "outputId": "2e126b03-6cc2-4c19-dd25-fe6b93e1ee81"
   },
   "outputs": [
    {
     "name": "stdout",
     "output_type": "stream",
     "text": [
      "epoch : 1/10, loss = 0.052550\n",
      "loss from l1: tensor(0.0003, grad_fn=<DivBackward0>)\n",
      "epoch : 2/10, loss = 0.023504\n",
      "loss from l1: tensor(0.0004, grad_fn=<DivBackward0>)\n",
      "epoch : 3/10, loss = 0.018748\n",
      "loss from l1: tensor(0.0004, grad_fn=<DivBackward0>)\n",
      "epoch : 4/10, loss = 0.016368\n",
      "loss from l1: tensor(0.0004, grad_fn=<DivBackward0>)\n",
      "epoch : 5/10, loss = 0.014669\n",
      "loss from l1: tensor(0.0004, grad_fn=<DivBackward0>)\n",
      "epoch : 6/10, loss = 0.013643\n",
      "loss from l1: tensor(0.0004, grad_fn=<DivBackward0>)\n",
      "epoch : 7/10, loss = 0.013008\n",
      "loss from l1: tensor(0.0004, grad_fn=<DivBackward0>)\n",
      "epoch : 8/10, loss = 0.012545\n",
      "loss from l1: tensor(0.0004, grad_fn=<DivBackward0>)\n",
      "epoch : 9/10, loss = 0.012140\n",
      "loss from l1: tensor(0.0004, grad_fn=<DivBackward0>)\n",
      "epoch : 10/10, loss = 0.011812\n",
      "loss from l1: tensor(0.0004, grad_fn=<DivBackward0>)\n"
     ]
    }
   ],
   "source": [
    "epochs=10\n",
    "l1_param = 0.0001 #how strongly to enforce l1 regularization - play around with this\n",
    "\n",
    "for epoch in range(epochs):\n",
    "    loss = 0\n",
    "    l1_loss = 0\n",
    "    for batch_features, _ in train_loader:\n",
    "        # reshape mini-batch data to [N, 784] matrix\n",
    "        # load it to the active device\n",
    "        batch_features = batch_features.view(-1, 784).to(device)\n",
    "        \n",
    "        # reset the gradients back to zero\n",
    "        # PyTorch accumulates gradients on subsequent backward passes\n",
    "        optimizer.zero_grad()\n",
    "        \n",
    "        # compute reconstructions and encoded\n",
    "        outputs, encoded = model(batch_features, return_encoding=True)\n",
    "\n",
    "        # apply penalty to all non-zero encoded values\n",
    "        # https://debuggercafe.com/sparse-autoencoders-using-l1-regularization-with-pytorch/\n",
    "        l1_regularization = l1_param * torch.mean(torch.abs(encoded)) \n",
    "        l1_loss += l1_regularization\n",
    "        # compute training reconstruction loss + l1_regularization\n",
    "        train_loss = criterion(outputs, batch_features) + l1_regularization\n",
    "        \n",
    "        # compute accumulated gradients\n",
    "        train_loss.backward()\n",
    "        \n",
    "        # perform parameter update based on current gradients\n",
    "        optimizer.step()\n",
    "        \n",
    "        # add the mini-batch training loss to epoch loss\n",
    "        loss += train_loss.item()\n",
    "    \n",
    "    # compute the epoch training loss\n",
    "    loss = loss / len(train_loader)\n",
    "    \n",
    "    # display the epoch training loss\n",
    "    print(\"epoch : {}/{}, loss = {:.6f}\".format(epoch + 1, epochs, loss))\n",
    "    #display l1 loss\n",
    "    print(\"loss from l1:\", l1_loss/len(train_loader))"
   ]
  },
  {
   "cell_type": "code",
   "execution_count": 62,
   "id": "f4665817",
   "metadata": {
    "colab": {
     "base_uri": "https://localhost:8080/",
     "height": 315
    },
    "id": "f4665817",
    "outputId": "3f97d559-6c9b-4e8c-d72d-11c1b3938b9b"
   },
   "outputs": [
    {
     "name": "stdout",
     "output_type": "stream",
     "text": [
      "torch.Size([32, 784]) torch.Size([32])\n",
      "torch.Size([32, 784])\n"
     ]
    },
    {
     "data": {
      "image/png": "[encoded data removed]",
      "text/plain": [
       "<Figure size 640x480 with 20 Axes>"
      ]
     },
     "metadata": {},
     "output_type": "display_data"
    }
   ],
   "source": [
    "for imgs, labels in test_loader:\n",
    "    imgs = imgs.view(-1, 784)\n",
    "    print(imgs.shape, labels.shape)\n",
    "    reconstructed = model.forward(imgs)\n",
    "    print(reconstructed.shape)\n",
    "    \n",
    "    n = 10\n",
    "    for i in range(n):\n",
    "        #original test images\n",
    "        ax = plt.subplot(2, n, i+1)\n",
    "        plt.imshow(imgs[i].reshape(28, 28))\n",
    "        plt.gray()\n",
    "        ax.get_xaxis().set_visible(False)\n",
    "        ax.get_yaxis().set_visible(False)\n",
    "\n",
    "        # Display reconstructed images\n",
    "        ax = plt.subplot(2, n, i+1+n)\n",
    "        plt.imshow(reconstructed[i].reshape(28, 28).detach().numpy())\n",
    "        plt.gray()\n",
    "        ax.get_xaxis().set_visible(False)\n",
    "        ax.get_yaxis().set_visible(False)\n",
    "    plt.show()\n",
    "    break"
   ]
  },
  {
   "cell_type": "code",
   "execution_count": null,
   "id": "jgT9unqPdDtP",
   "metadata": {
    "id": "jgT9unqPdDtP"
   },
   "outputs": [],
   "source": []
  }
 ],
 "metadata": {
  "colab": {
   "provenance": []
  },
  "kernelspec": {
   "display_name": "bioml_env2",
   "language": "python",
   "name": "bioml_env2"
  },
  "language_info": {
   "codemirror_mode": {
    "name": "ipython",
    "version": 3
   },
   "file_extension": ".py",
   "mimetype": "text/x-python",
   "name": "python",
   "nbconvert_exporter": "python",
   "pygments_lexer": "ipython3",
   "version": "3.7.15"
  }
 },
 "nbformat": 4,
 "nbformat_minor": 5
}
