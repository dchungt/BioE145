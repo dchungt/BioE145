{
 "cells": [
  {
   "cell_type": "code",
   "execution_count": 7,
   "id": "2a80157b",
   "metadata": {},
   "outputs": [],
   "source": [
    "import numpy as np\n",
    "import math\n",
    "\n",
    "def conv_forward(X, w, b, stride=1):\n",
    "    \"\"\"\n",
    "    Q:  implement the linear forward pass of a convolutional layer (assume no padding)\n",
    "        H & W = height and width of the original image (data matrix)\n",
    "        HH & WW = height and width of the kernel filter\n",
    "        C = number of channels (ex: an RGB image has 3 channels)\n",
    "        C' = number of kernels\n",
    "\n",
    "    Inputs\n",
    "    - X: data matrix with the shape (N, C, H, W) => (batch_size, channels, height, width)\n",
    "    - w: kernel matrix with the shape (C', C, HH, WW); C' is the number of kernels while C is the old\n",
    "         number of channels\n",
    "    - b: one bias per kernel, so (C')\n",
    "\n",
    "    Outputs\n",
    "    - Z: output after running the convolutional layer should be of shape (N, C', H_out, W_out)\n",
    "    \"\"\"\n",
    "\n",
    "    assert stride >= 1 and type(stride) == int, f\"strides need to be an integer and >= 1, but it's {stride}\"\n",
    "    N, C, H, W = X.shape\n",
    "    C_out, _, HH, WW = w.shape\n",
    "    \n",
    "    # Calculate the output height and width\n",
    "    H_out = int(1 + (H - HH) / stride)\n",
    "    W_out = int(1 + (W - WW) / stride)\n",
    "\n",
    "    # Initialize the output tensor\n",
    "    out = np.zeros((N, C_out, H_out, W_out))\n",
    "\n",
    "    # Loop over the batches\n",
    "    for n in range(N):\n",
    "        # Loop over the output channels (kernels)\n",
    "        for c_out in range(C_out):\n",
    "            # Loop over the output spatial dimensions\n",
    "            for h_out in range(H_out):\n",
    "                for w_out in range(W_out):\n",
    "                    # Compute the receptive field for this output unit\n",
    "                    h_start = h_out * stride\n",
    "                    h_end = h_start + HH\n",
    "                    w_start = w_out * stride\n",
    "                    w_end = w_start + WW\n",
    "\n",
    "                    # Extract the input slice corresponding to this receptive field\n",
    "                    x_slice = X[n, :, h_start:h_end, w_start:w_end]\n",
    "\n",
    "                    # Convolve the input slice with the corresponding kernel and add the bias\n",
    "                    out[n, c_out, h_out, w_out] = np.sum(x_slice * w[c_out]) + b[c_out]\n",
    "    return out"
   ]
  },
  {
   "cell_type": "code",
   "execution_count": 8,
   "id": "6e197305",
   "metadata": {},
   "outputs": [
    {
     "name": "stdout",
     "output_type": "stream",
     "text": [
      "Stride =  1 passed...\n",
      "Stride =  3 passed...\n",
      "Stride = 13 passed...\n",
      "All test cases passed!\n"
     ]
    }
   ],
   "source": [
    "if __name__ == '__main__':\n",
    "\n",
    "    def close_enough(val1, val2, thresh=1e-12):\n",
    "        return np.all(np.abs(val1 - val2) < thresh)\n",
    "\n",
    "    X = np.load(\"X.npy\")\n",
    "    w = np.load(\"w.npy\")\n",
    "    b = np.load(\"b.npy\")\n",
    "\n",
    "\n",
    "    out = conv_forward(X, w, b, 1)\n",
    "    test_out = np.load(\"q1_stride1.npy\")\n",
    "    assert close_enough(out, test_out), \"stride = 1 incorrect output!\"\n",
    "    print(\"Stride =  1 passed...\")\n",
    "\n",
    "    out = conv_forward(X, w, b, 3)\n",
    "    test_out = np.load(\"q1_stride3.npy\")\n",
    "    assert close_enough(out, test_out), \"stride = 3 incorrect output!\"\n",
    "    print(\"Stride =  3 passed...\")\n",
    "\n",
    "    out = conv_forward(X, w, b, 13)\n",
    "    test_out = np.load(\"q1_stride13.npy\")\n",
    "    assert close_enough(out, test_out), \"stride = 13 incorrect output!\"\n",
    "    print(\"Stride = 13 passed...\")\n",
    "\n",
    "    print(\"All test cases passed!\")\n",
    "    pass"
   ]
  },
  {
   "cell_type": "code",
   "execution_count": null,
   "id": "51f07b28",
   "metadata": {},
   "outputs": [],
   "source": []
  }
 ],
 "metadata": {
  "kernelspec": {
   "display_name": "Python 3 (ipykernel)",
   "language": "python",
   "name": "python3"
  },
  "language_info": {
   "codemirror_mode": {
    "name": "ipython",
    "version": 3
   },
   "file_extension": ".py",
   "mimetype": "text/x-python",
   "name": "python",
   "nbconvert_exporter": "python",
   "pygments_lexer": "ipython3",
   "version": "3.9.13"
  }
 },
 "nbformat": 4,
 "nbformat_minor": 5
}
